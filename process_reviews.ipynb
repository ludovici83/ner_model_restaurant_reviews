{
 "cells": [
  {
   "cell_type": "code",
   "execution_count": 2,
   "metadata": {},
   "outputs": [
    {
     "name": "stdout",
     "output_type": "stream",
     "text": [
      "env: CUDA_VISIBLE_DEVICES=4\n"
     ]
    }
   ],
   "source": [
    "import json\n",
    "import pandas as pd\n",
    "import re \n",
    "%env CUDA_VISIBLE_DEVICES=4"
   ]
  },
  {
   "cell_type": "code",
   "execution_count": 3,
   "metadata": {},
   "outputs": [],
   "source": [
    "with open(\"reviews.json\",\"r\") as f:\n",
    "    reviews = json.load(f)\n",
    "\n",
    "with open(\"entities.json\",\"r\") as f:\n",
    "    entities = json.load(f)"
   ]
  },
  {
   "cell_type": "code",
   "execution_count": 4,
   "metadata": {},
   "outputs": [
    {
     "name": "stdout",
     "output_type": "stream",
     "text": [
      "18003\n"
     ]
    }
   ],
   "source": [
    "df_reviews  = pd.DataFrame(reviews)\n",
    "df_entities = pd.DataFrame(entities)\n",
    "\n",
    "# join the datasets containing reviews and their entities\n",
    "df_anno = df_reviews.merge(df_entities,how=\"left\",left_on=\"uid\",right_on=\"review_uid\")\n",
    "df_anno = df_anno.drop(\"uid\",axis=1)\n",
    "df_anno = df_anno.dropna()\n",
    "\n",
    "# convert reviews to lowercase\n",
    "df_anno[\"body\"] = df_anno.body.apply(lambda x : x.lower())\n",
    "print(len(df_anno))"
   ]
  },
  {
   "cell_type": "code",
   "execution_count": 5,
   "metadata": {},
   "outputs": [
    {
     "data": {
      "text/html": [
       "<div>\n",
       "<style scoped>\n",
       "    .dataframe tbody tr th:only-of-type {\n",
       "        vertical-align: middle;\n",
       "    }\n",
       "\n",
       "    .dataframe tbody tr th {\n",
       "        vertical-align: top;\n",
       "    }\n",
       "\n",
       "    .dataframe thead th {\n",
       "        text-align: right;\n",
       "    }\n",
       "</style>\n",
       "<table border=\"1\" class=\"dataframe\">\n",
       "  <thead>\n",
       "    <tr style=\"text-align: right;\">\n",
       "      <th></th>\n",
       "      <th>body</th>\n",
       "      <th>review_uid</th>\n",
       "      <th>start</th>\n",
       "      <th>end</th>\n",
       "      <th>type</th>\n",
       "      <th>term</th>\n",
       "    </tr>\n",
       "  </thead>\n",
       "  <tbody>\n",
       "    <tr>\n",
       "      <th>0</th>\n",
       "      <td>buena selección de ostras.</td>\n",
       "      <td>00000f8808a9789cfe57be5884ff1ad5c3b96580</td>\n",
       "      <td>0.0</td>\n",
       "      <td>5.0</td>\n",
       "      <td>modifier</td>\n",
       "      <td>buena</td>\n",
       "    </tr>\n",
       "    <tr>\n",
       "      <th>1</th>\n",
       "      <td>buena selección de ostras.</td>\n",
       "      <td>00000f8808a9789cfe57be5884ff1ad5c3b96580</td>\n",
       "      <td>19.0</td>\n",
       "      <td>25.0</td>\n",
       "      <td>concept</td>\n",
       "      <td>recetas ostras</td>\n",
       "    </tr>\n",
       "    <tr>\n",
       "      <th>2</th>\n",
       "      <td>tiene gran variedad de tapas a 2,50 de gran ca...</td>\n",
       "      <td>000010f29b5d65ad7c073acc31e327dc3ff9af54</td>\n",
       "      <td>6.0</td>\n",
       "      <td>10.0</td>\n",
       "      <td>modifier</td>\n",
       "      <td>gran</td>\n",
       "    </tr>\n",
       "    <tr>\n",
       "      <th>3</th>\n",
       "      <td>tiene gran variedad de tapas a 2,50 de gran ca...</td>\n",
       "      <td>000010f29b5d65ad7c073acc31e327dc3ff9af54</td>\n",
       "      <td>23.0</td>\n",
       "      <td>28.0</td>\n",
       "      <td>concept</td>\n",
       "      <td>tapas</td>\n",
       "    </tr>\n",
       "    <tr>\n",
       "      <th>4</th>\n",
       "      <td>tiene gran variedad de tapas a 2,50 de gran ca...</td>\n",
       "      <td>000010f29b5d65ad7c073acc31e327dc3ff9af54</td>\n",
       "      <td>39.0</td>\n",
       "      <td>43.0</td>\n",
       "      <td>modifier</td>\n",
       "      <td>gran</td>\n",
       "    </tr>\n",
       "    <tr>\n",
       "      <th>...</th>\n",
       "      <td>...</td>\n",
       "      <td>...</td>\n",
       "      <td>...</td>\n",
       "      <td>...</td>\n",
       "      <td>...</td>\n",
       "      <td>...</td>\n",
       "    </tr>\n",
       "    <tr>\n",
       "      <th>18003</th>\n",
       "      <td>después casi tres horas, con la pizza en estóm...</td>\n",
       "      <td>dde2e67c6ecce7be8fd521600fbd844a7d62007c</td>\n",
       "      <td>246.0</td>\n",
       "      <td>252.0</td>\n",
       "      <td>concept</td>\n",
       "      <td>música</td>\n",
       "    </tr>\n",
       "    <tr>\n",
       "      <th>18004</th>\n",
       "      <td>después casi tres horas, con la pizza en estóm...</td>\n",
       "      <td>dde2e67c6ecce7be8fd521600fbd844a7d62007c</td>\n",
       "      <td>319.0</td>\n",
       "      <td>325.0</td>\n",
       "      <td>concept</td>\n",
       "      <td>pizzas</td>\n",
       "    </tr>\n",
       "    <tr>\n",
       "      <th>18005</th>\n",
       "      <td>después casi tres horas, con la pizza en estóm...</td>\n",
       "      <td>dde2e67c6ecce7be8fd521600fbd844a7d62007c</td>\n",
       "      <td>332.0</td>\n",
       "      <td>337.0</td>\n",
       "      <td>concept</td>\n",
       "      <td>tapas</td>\n",
       "    </tr>\n",
       "    <tr>\n",
       "      <th>18006</th>\n",
       "      <td>después casi tres horas, con la pizza en estóm...</td>\n",
       "      <td>dde2e67c6ecce7be8fd521600fbd844a7d62007c</td>\n",
       "      <td>404.0</td>\n",
       "      <td>412.0</td>\n",
       "      <td>concept</td>\n",
       "      <td>clientes</td>\n",
       "    </tr>\n",
       "    <tr>\n",
       "      <th>18007</th>\n",
       "      <td>después casi tres horas, con la pizza en estóm...</td>\n",
       "      <td>dde2e67c6ecce7be8fd521600fbd844a7d62007c</td>\n",
       "      <td>381.0</td>\n",
       "      <td>389.0</td>\n",
       "      <td>modifier</td>\n",
       "      <td>falta de</td>\n",
       "    </tr>\n",
       "  </tbody>\n",
       "</table>\n",
       "<p>18003 rows × 6 columns</p>\n",
       "</div>"
      ],
      "text/plain": [
       "                                                    body  \\\n",
       "0                             buena selección de ostras.   \n",
       "1                             buena selección de ostras.   \n",
       "2      tiene gran variedad de tapas a 2,50 de gran ca...   \n",
       "3      tiene gran variedad de tapas a 2,50 de gran ca...   \n",
       "4      tiene gran variedad de tapas a 2,50 de gran ca...   \n",
       "...                                                  ...   \n",
       "18003  después casi tres horas, con la pizza en estóm...   \n",
       "18004  después casi tres horas, con la pizza en estóm...   \n",
       "18005  después casi tres horas, con la pizza en estóm...   \n",
       "18006  después casi tres horas, con la pizza en estóm...   \n",
       "18007  después casi tres horas, con la pizza en estóm...   \n",
       "\n",
       "                                     review_uid  start    end      type  \\\n",
       "0      00000f8808a9789cfe57be5884ff1ad5c3b96580    0.0    5.0  modifier   \n",
       "1      00000f8808a9789cfe57be5884ff1ad5c3b96580   19.0   25.0   concept   \n",
       "2      000010f29b5d65ad7c073acc31e327dc3ff9af54    6.0   10.0  modifier   \n",
       "3      000010f29b5d65ad7c073acc31e327dc3ff9af54   23.0   28.0   concept   \n",
       "4      000010f29b5d65ad7c073acc31e327dc3ff9af54   39.0   43.0  modifier   \n",
       "...                                         ...    ...    ...       ...   \n",
       "18003  dde2e67c6ecce7be8fd521600fbd844a7d62007c  246.0  252.0   concept   \n",
       "18004  dde2e67c6ecce7be8fd521600fbd844a7d62007c  319.0  325.0   concept   \n",
       "18005  dde2e67c6ecce7be8fd521600fbd844a7d62007c  332.0  337.0   concept   \n",
       "18006  dde2e67c6ecce7be8fd521600fbd844a7d62007c  404.0  412.0   concept   \n",
       "18007  dde2e67c6ecce7be8fd521600fbd844a7d62007c  381.0  389.0  modifier   \n",
       "\n",
       "                 term  \n",
       "0               buena  \n",
       "1      recetas ostras  \n",
       "2                gran  \n",
       "3               tapas  \n",
       "4                gran  \n",
       "...               ...  \n",
       "18003          música  \n",
       "18004          pizzas  \n",
       "18005           tapas  \n",
       "18006        clientes  \n",
       "18007        falta de  \n",
       "\n",
       "[18003 rows x 6 columns]"
      ]
     },
     "execution_count": 5,
     "metadata": {},
     "output_type": "execute_result"
    }
   ],
   "source": [
    "df_anno"
   ]
  },
  {
   "cell_type": "code",
   "execution_count": 6,
   "metadata": {},
   "outputs": [
    {
     "name": "stdout",
     "output_type": "stream",
     "text": [
      "12767\n"
     ]
    }
   ],
   "source": [
    "def convert_to_tokens(text):\n",
    "    return re.findall(r\"[\\w']+|[.,!?;]\", text)\n",
    "\n",
    "def recompose_stc(stc_tokens):\n",
    "    stc_recomposed = \"\"\n",
    "    i = 0\n",
    "    for tok in stc_tokens:\n",
    "        if i == 0 or not tok.isalnum():\n",
    "            stc_recomposed += tok\n",
    "        else:\n",
    "            stc_recomposed += \" \"+tok\n",
    "        i +=1\n",
    "    return stc_recomposed\n",
    "\n",
    "df_anno[\"body_recomposed\"] = df_anno.body.apply(convert_to_tokens).apply(recompose_stc)\n",
    "df_anno = df_anno[df_anno.body==df_anno.body_recomposed]\n",
    "df_anno = df_anno.drop(\"body_recomposed\",axis=1)\n",
    "print(len(df_anno))"
   ]
  },
  {
   "cell_type": "code",
   "execution_count": 7,
   "metadata": {},
   "outputs": [],
   "source": [
    "uids = df_anno.review_uid.unique()"
   ]
  },
  {
   "cell_type": "code",
   "execution_count": 8,
   "metadata": {},
   "outputs": [],
   "source": [
    "revs = []\n",
    "for uid in uids:\n",
    "    df_review = df_anno[df_anno.review_uid==uid]\n",
    "    body = df_review.body.unique()[0]\n",
    "    list_ents = []\n",
    "    for i,row in df_review.iterrows():\n",
    "        text  = row.term\n",
    "        type  = row.type \n",
    "        start = row.start \n",
    "        end   = row.end \n",
    "        r     = {\"text\":text,\"type\":type,\"start\":start,\"end\":end}\n",
    "        list_ents.append(r)\n",
    "    row = {\"document\":body,\"entities\" : list_ents}\n",
    "    revs.append(row)"
   ]
  },
  {
   "cell_type": "code",
   "execution_count": 9,
   "metadata": {},
   "outputs": [],
   "source": [
    "reviews_json = revs\n",
    "del revs"
   ]
  },
  {
   "cell_type": "code",
   "execution_count": 10,
   "metadata": {},
   "outputs": [
    {
     "data": {
      "text/plain": [
       "[{'document': 'buena selección de ostras.',\n",
       "  'entities': [{'text': 'buena', 'type': 'modifier', 'start': 0.0, 'end': 5.0},\n",
       "   {'text': 'recetas ostras', 'type': 'concept', 'start': 19.0, 'end': 25.0}]},\n",
       " {'document': 'buen ambiente, trato excelente y jamón exquisito.',\n",
       "  'entities': [{'text': 'buen', 'type': 'modifier', 'start': 0.0, 'end': 4.0},\n",
       "   {'text': 'ambiente', 'type': 'concept', 'start': 5.0, 'end': 13.0},\n",
       "   {'text': 'excelente', 'type': 'modifier', 'start': 21.0, 'end': 30.0},\n",
       "   {'text': 'jamón', 'type': 'concept', 'start': 33.0, 'end': 38.0},\n",
       "   {'text': 'exquisito', 'type': 'modifier', 'start': 39.0, 'end': 48.0}]}]"
      ]
     },
     "execution_count": 10,
     "metadata": {},
     "output_type": "execute_result"
    }
   ],
   "source": [
    "reviews_json[:2]"
   ]
  },
  {
   "cell_type": "code",
   "execution_count": 11,
   "metadata": {},
   "outputs": [],
   "source": [
    "# add column with text split into tokens\n",
    "for i in range(len(reviews_json)) :\n",
    "    tokens = convert_to_tokens(reviews_json[i][\"document\"])\n",
    "    reviews_json[i][\"tokens\"] = tokens"
   ]
  },
  {
   "cell_type": "code",
   "execution_count": 12,
   "metadata": {},
   "outputs": [
    {
     "data": {
      "text/plain": [
       "{'document': 'un restaurante de 5 estrellas, uno de los pocos donde se disfruta de la auténtica gastronomía española.',\n",
       " 'entities': [{'text': 'restaurante',\n",
       "   'type': 'concept',\n",
       "   'start': 3.0,\n",
       "   'end': 14.0},\n",
       "  {'text': 'pocos', 'type': 'modifier', 'start': 42.0, 'end': 47.0},\n",
       "  {'text': 'auténtica', 'type': 'modifier', 'start': 72.0, 'end': 81.0},\n",
       "  {'text': 'gastronomía', 'type': 'concept', 'start': 82.0, 'end': 93.0}],\n",
       " 'tokens': ['un',\n",
       "  'restaurante',\n",
       "  'de',\n",
       "  '5',\n",
       "  'estrellas',\n",
       "  ',',\n",
       "  'uno',\n",
       "  'de',\n",
       "  'los',\n",
       "  'pocos',\n",
       "  'donde',\n",
       "  'se',\n",
       "  'disfruta',\n",
       "  'de',\n",
       "  'la',\n",
       "  'auténtica',\n",
       "  'gastronomía',\n",
       "  'española',\n",
       "  '.']}"
      ]
     },
     "execution_count": 12,
     "metadata": {},
     "output_type": "execute_result"
    }
   ],
   "source": [
    "reviews_json[200]"
   ]
  },
  {
   "cell_type": "code",
   "execution_count": 13,
   "metadata": {},
   "outputs": [],
   "source": [
    "def find_sub_list(sl,l):\n",
    "    results=[]\n",
    "    sll=len(sl)\n",
    "    for ind in (i for i,e in enumerate(l) if e==sl[0]):\n",
    "        if l[ind:ind+sll]==sl:\n",
    "            results.append((ind,ind+sll-1))\n",
    "    return results"
   ]
  },
  {
   "cell_type": "markdown",
   "metadata": {},
   "source": [
    "Given a review with multi-word entities; how to assign to each token whether it belongs to a \"B-MODIFIER\" , \"B-CONCEPT\" or \"I-MODIFIER\" ,\"I-CONCEPT\" or an \"O\" entity type. "
   ]
  },
  {
   "cell_type": "code",
   "execution_count": 14,
   "metadata": {},
   "outputs": [],
   "source": [
    "#function to write NER tags in required format\n",
    "def write_ner_tags(rev):\n",
    "    entities = rev[\"entities\"]\n",
    "    ner_tags = []\n",
    "\n",
    "    ner_tags = []\n",
    "    for i in range(len(entities)):\n",
    "        type = entities[i][\"type\"]\n",
    "        sub_list = convert_to_tokens(entities[i][\"text\"])\n",
    "        try:\n",
    "            token_start,token_end = find_sub_list(sub_list,rev[\"tokens\"])[0]\n",
    "            itm = {\"token_start\":token_start,\"token_end\":token_end,\"type\":type}\n",
    "            ner_tags.append(itm)\n",
    "        except:\n",
    "            pass\n",
    "    # initialize all labels to \"O\"\n",
    "    ner_labels = []\n",
    "    for i in range(len(rev[\"tokens\"])):\n",
    "        ner_labels.append(\"O\")\n",
    "    # edit modifier and concept tokens\n",
    "    for tag in ner_tags:\n",
    "        if tag[\"type\"] ==\"modifier\" : \n",
    "            ner_labels[tag[\"token_start\"]] = \"B-MODIFIER\"\n",
    "            if tag[\"token_start\"] != tag[\"token_end\"]:\n",
    "                for j in range(tag[\"token_start\"]+1 , tag[\"token_end\"]+1):\n",
    "                    ner_labels[j] = \"I-MODIFIER\"\n",
    "        if tag[\"type\"] ==\"concept\" : \n",
    "            ner_labels[tag[\"token_start\"]] = \"B-CONCEPT\"\n",
    "            if tag[\"token_start\"] != tag[\"token_end\"]:\n",
    "                for j in range(tag[\"token_start\"]+1 , tag[\"token_end\"]+1):\n",
    "                    ner_labels[j] = \"I-CONCEPT\"\n",
    "    return ner_labels"
   ]
  },
  {
   "cell_type": "code",
   "execution_count": 15,
   "metadata": {},
   "outputs": [],
   "source": [
    "id_doc = 1995\n",
    "reviews_json[id_doc][\"ner_tags\"] = write_ner_tags(reviews_json[id_doc])"
   ]
  },
  {
   "cell_type": "code",
   "execution_count": 16,
   "metadata": {},
   "outputs": [
    {
     "name": "stdout",
     "output_type": "stream",
     "text": [
      "la -----------> O\n",
      "paella -----------> B-CONCEPT\n",
      "de -----------> I-CONCEPT\n",
      "verduras -----------> I-CONCEPT\n",
      "del -----------> O\n",
      "andaluz -----------> O\n",
      "para -----------> O\n",
      "nosotros -----------> O\n",
      "es -----------> O\n",
      "de -----------> O\n",
      "las -----------> B-MODIFIER\n",
      "mejores -----------> I-MODIFIER\n",
      "que -----------> O\n",
      "hemos -----------> O\n",
      "probado -----------> O\n",
      "sin -----------> O\n",
      "duda -----------> O\n",
      ". -----------> O\n"
     ]
    }
   ],
   "source": [
    "for i in range(len(reviews_json[id_doc][\"tokens\"])):\n",
    "    print(reviews_json[id_doc][\"tokens\"][i],str(\"----------->\"),reviews_json[id_doc][\"ner_tags\"][i])\n"
   ]
  },
  {
   "cell_type": "code",
   "execution_count": 17,
   "metadata": {},
   "outputs": [],
   "source": [
    "for i in range(len(reviews_json)) :\n",
    "    reviews_json[i][\"ner_tags\"] = write_ner_tags(reviews_json[i])"
   ]
  },
  {
   "cell_type": "code",
   "execution_count": 18,
   "metadata": {},
   "outputs": [
    {
     "name": "stdout",
     "output_type": "stream",
     "text": [
      "nos -----------> O\n",
      "lo -----------> O\n",
      "recomendaron -----------> O\n",
      "en -----------> O\n",
      "marqués -----------> B-CONCEPT\n",
      "de -----------> I-CONCEPT\n",
      "riscal -----------> I-CONCEPT\n",
      ". -----------> O\n"
     ]
    }
   ],
   "source": [
    "id_doc = 442\n",
    "for i in range(len(reviews_json[id_doc][\"tokens\"])):\n",
    "    print(reviews_json[id_doc][\"tokens\"][i],str(\"----------->\"),reviews_json[id_doc][\"ner_tags\"][i])"
   ]
  },
  {
   "cell_type": "code",
   "execution_count": 19,
   "metadata": {},
   "outputs": [
    {
     "data": {
      "text/plain": [
       "[{'document': 'buena selección de ostras.',\n",
       "  'entities': [{'text': 'buena', 'type': 'modifier', 'start': 0.0, 'end': 5.0},\n",
       "   {'text': 'recetas ostras', 'type': 'concept', 'start': 19.0, 'end': 25.0}],\n",
       "  'tokens': ['buena', 'selección', 'de', 'ostras', '.'],\n",
       "  'ner_tags': ['B-MODIFIER', 'O', 'O', 'O', 'O']},\n",
       " {'document': 'buen ambiente, trato excelente y jamón exquisito.',\n",
       "  'entities': [{'text': 'buen', 'type': 'modifier', 'start': 0.0, 'end': 4.0},\n",
       "   {'text': 'ambiente', 'type': 'concept', 'start': 5.0, 'end': 13.0},\n",
       "   {'text': 'excelente', 'type': 'modifier', 'start': 21.0, 'end': 30.0},\n",
       "   {'text': 'jamón', 'type': 'concept', 'start': 33.0, 'end': 38.0},\n",
       "   {'text': 'exquisito', 'type': 'modifier', 'start': 39.0, 'end': 48.0}],\n",
       "  'tokens': ['buen',\n",
       "   'ambiente',\n",
       "   ',',\n",
       "   'trato',\n",
       "   'excelente',\n",
       "   'y',\n",
       "   'jamón',\n",
       "   'exquisito',\n",
       "   '.'],\n",
       "  'ner_tags': ['B-MODIFIER',\n",
       "   'B-CONCEPT',\n",
       "   'O',\n",
       "   'O',\n",
       "   'B-MODIFIER',\n",
       "   'O',\n",
       "   'B-CONCEPT',\n",
       "   'B-MODIFIER',\n",
       "   'O']}]"
      ]
     },
     "execution_count": 19,
     "metadata": {},
     "output_type": "execute_result"
    }
   ],
   "source": [
    "reviews_json[:2]"
   ]
  },
  {
   "cell_type": "code",
   "execution_count": 20,
   "metadata": {},
   "outputs": [],
   "source": [
    "df_reviews = pd.DataFrame(reviews_json)\n",
    "df_reviews = df_reviews.drop([\"entities\"],axis=1)"
   ]
  },
  {
   "cell_type": "code",
   "execution_count": 21,
   "metadata": {},
   "outputs": [
    {
     "data": {
      "text/html": [
       "<div>\n",
       "<style scoped>\n",
       "    .dataframe tbody tr th:only-of-type {\n",
       "        vertical-align: middle;\n",
       "    }\n",
       "\n",
       "    .dataframe tbody tr th {\n",
       "        vertical-align: top;\n",
       "    }\n",
       "\n",
       "    .dataframe thead th {\n",
       "        text-align: right;\n",
       "    }\n",
       "</style>\n",
       "<table border=\"1\" class=\"dataframe\">\n",
       "  <thead>\n",
       "    <tr style=\"text-align: right;\">\n",
       "      <th></th>\n",
       "      <th>document</th>\n",
       "      <th>tokens</th>\n",
       "      <th>ner_tags</th>\n",
       "    </tr>\n",
       "  </thead>\n",
       "  <tbody>\n",
       "    <tr>\n",
       "      <th>1554</th>\n",
       "      <td>al menos la tabla de ibéricos salvará el día, ...</td>\n",
       "      <td>[al, menos, la, tabla, de, ibéricos, salvará, ...</td>\n",
       "      <td>[O, O, O, B-CONCEPT, I-CONCEPT, I-CONCEPT, O, ...</td>\n",
       "    </tr>\n",
       "    <tr>\n",
       "      <th>3414</th>\n",
       "      <td>buena atención, comida rica y muy abundante.</td>\n",
       "      <td>[buena, atención, ,, comida, rica, y, muy, abu...</td>\n",
       "      <td>[B-MODIFIER, O, O, B-CONCEPT, B-MODIFIER, O, B...</td>\n",
       "    </tr>\n",
       "    <tr>\n",
       "      <th>2536</th>\n",
       "      <td>pedimos el pulpo, brocheta de rape y el secret...</td>\n",
       "      <td>[pedimos, el, pulpo, ,, brocheta, de, rape, y,...</td>\n",
       "      <td>[O, O, O, O, B-CONCEPT, O, B-CONCEPT, O, O, B-...</td>\n",
       "    </tr>\n",
       "  </tbody>\n",
       "</table>\n",
       "</div>"
      ],
      "text/plain": [
       "                                               document  \\\n",
       "1554  al menos la tabla de ibéricos salvará el día, ...   \n",
       "3414       buena atención, comida rica y muy abundante.   \n",
       "2536  pedimos el pulpo, brocheta de rape y el secret...   \n",
       "\n",
       "                                                 tokens  \\\n",
       "1554  [al, menos, la, tabla, de, ibéricos, salvará, ...   \n",
       "3414  [buena, atención, ,, comida, rica, y, muy, abu...   \n",
       "2536  [pedimos, el, pulpo, ,, brocheta, de, rape, y,...   \n",
       "\n",
       "                                               ner_tags  \n",
       "1554  [O, O, O, B-CONCEPT, I-CONCEPT, I-CONCEPT, O, ...  \n",
       "3414  [B-MODIFIER, O, O, B-CONCEPT, B-MODIFIER, O, B...  \n",
       "2536  [O, O, O, O, B-CONCEPT, O, B-CONCEPT, O, O, B-...  "
      ]
     },
     "execution_count": 21,
     "metadata": {},
     "output_type": "execute_result"
    }
   ],
   "source": [
    "df_reviews.sample(3)"
   ]
  },
  {
   "cell_type": "code",
   "execution_count": 22,
   "metadata": {},
   "outputs": [],
   "source": [
    "def convert_tag_to_label(x):\n",
    "    if x == \"O\":\n",
    "        return 0\n",
    "    if x == \"B-MODIFIER\":\n",
    "        return 1\n",
    "    if x == \"I-MODIFIER\":\n",
    "        return 2\n",
    "    if x == \"B-CONCEPT\":\n",
    "        return 3\n",
    "    if x == \"I-CONCEPT\":\n",
    "        return 4\n",
    "\n",
    "def convert_tags_to_labels(list_tokens):\n",
    "    return list(map(convert_tag_to_label,list_tokens))\n",
    "\n"
   ]
  },
  {
   "cell_type": "code",
   "execution_count": 23,
   "metadata": {},
   "outputs": [],
   "source": [
    "df_reviews[\"labels\"] = df_reviews.ner_tags.apply(convert_tags_to_labels)"
   ]
  },
  {
   "cell_type": "code",
   "execution_count": 24,
   "metadata": {},
   "outputs": [],
   "source": [
    "df_reviews.columns = ['document', 'tokens', 'labels', 'ner_tags']"
   ]
  },
  {
   "cell_type": "code",
   "execution_count": 25,
   "metadata": {},
   "outputs": [
    {
     "data": {
      "text/html": [
       "<div>\n",
       "<style scoped>\n",
       "    .dataframe tbody tr th:only-of-type {\n",
       "        vertical-align: middle;\n",
       "    }\n",
       "\n",
       "    .dataframe tbody tr th {\n",
       "        vertical-align: top;\n",
       "    }\n",
       "\n",
       "    .dataframe thead th {\n",
       "        text-align: right;\n",
       "    }\n",
       "</style>\n",
       "<table border=\"1\" class=\"dataframe\">\n",
       "  <thead>\n",
       "    <tr style=\"text-align: right;\">\n",
       "      <th></th>\n",
       "      <th>document</th>\n",
       "      <th>tokens</th>\n",
       "      <th>labels</th>\n",
       "      <th>ner_tags</th>\n",
       "    </tr>\n",
       "  </thead>\n",
       "  <tbody>\n",
       "    <tr>\n",
       "      <th>0</th>\n",
       "      <td>buena selección de ostras.</td>\n",
       "      <td>[buena, selección, de, ostras, .]</td>\n",
       "      <td>[B-MODIFIER, O, O, O, O]</td>\n",
       "      <td>[1, 0, 0, 0, 0]</td>\n",
       "    </tr>\n",
       "    <tr>\n",
       "      <th>1</th>\n",
       "      <td>buen ambiente, trato excelente y jamón exquisito.</td>\n",
       "      <td>[buen, ambiente, ,, trato, excelente, y, jamón...</td>\n",
       "      <td>[B-MODIFIER, B-CONCEPT, O, O, B-MODIFIER, O, B...</td>\n",
       "      <td>[1, 3, 0, 0, 1, 0, 3, 1, 0]</td>\n",
       "    </tr>\n",
       "    <tr>\n",
       "      <th>2</th>\n",
       "      <td>las pasta correcta pero es cara para las racio...</td>\n",
       "      <td>[las, pasta, correcta, pero, es, cara, para, l...</td>\n",
       "      <td>[O, B-CONCEPT, B-MODIFIER, O, O, B-MODIFIER, O...</td>\n",
       "      <td>[0, 3, 1, 0, 0, 1, 0, 0, 0, 0]</td>\n",
       "    </tr>\n",
       "    <tr>\n",
       "      <th>3</th>\n",
       "      <td>si he estado unas 50 veces, nunca, he salido m...</td>\n",
       "      <td>[si, he, estado, unas, 50, veces, ,, nunca, ,,...</td>\n",
       "      <td>[O, O, O, O, O, O, O, O, O, O, O, O, O, O, O, ...</td>\n",
       "      <td>[0, 0, 0, 0, 0, 0, 0, 0, 0, 0, 0, 0, 0, 0, 0, ...</td>\n",
       "    </tr>\n",
       "    <tr>\n",
       "      <th>4</th>\n",
       "      <td>un trato excelente y profesional.</td>\n",
       "      <td>[un, trato, excelente, y, profesional, .]</td>\n",
       "      <td>[O, O, B-MODIFIER, O, B-MODIFIER, O]</td>\n",
       "      <td>[0, 0, 1, 0, 1, 0]</td>\n",
       "    </tr>\n",
       "    <tr>\n",
       "      <th>...</th>\n",
       "      <td>...</td>\n",
       "      <td>...</td>\n",
       "      <td>...</td>\n",
       "      <td>...</td>\n",
       "    </tr>\n",
       "    <tr>\n",
       "      <th>3958</th>\n",
       "      <td>ya éramos clientes de más pi antes que se conv...</td>\n",
       "      <td>[ya, éramos, clientes, de, más, pi, antes, que...</td>\n",
       "      <td>[O, O, B-CONCEPT, O, O, O, O, O, O, O, O, O, O...</td>\n",
       "      <td>[0, 0, 3, 0, 0, 0, 0, 0, 0, 0, 0, 0, 0, 0, 0, ...</td>\n",
       "    </tr>\n",
       "    <tr>\n",
       "      <th>3959</th>\n",
       "      <td>veo por muchos de los comentarios que coincidi...</td>\n",
       "      <td>[veo, por, muchos, de, los, comentarios, que, ...</td>\n",
       "      <td>[O, O, O, O, O, O, O, O, O, O, O, O, B-MODIFIE...</td>\n",
       "      <td>[0, 0, 0, 0, 0, 0, 0, 0, 0, 0, 0, 0, 1, 0, 0, ...</td>\n",
       "    </tr>\n",
       "    <tr>\n",
       "      <th>3960</th>\n",
       "      <td>vine al restaurante animado por las opiniones ...</td>\n",
       "      <td>[vine, al, restaurante, animado, por, las, opi...</td>\n",
       "      <td>[O, O, B-CONCEPT, B-MODIFIER, O, O, O, O, O, B...</td>\n",
       "      <td>[0, 0, 3, 1, 0, 0, 0, 0, 0, 3, 0, 0, 0, 0, 0, ...</td>\n",
       "    </tr>\n",
       "    <tr>\n",
       "      <th>3961</th>\n",
       "      <td>los desayunos y dulces son estupendos, el siti...</td>\n",
       "      <td>[los, desayunos, y, dulces, son, estupendos, ,...</td>\n",
       "      <td>[O, B-CONCEPT, O, B-CONCEPT, O, B-MODIFIER, O,...</td>\n",
       "      <td>[0, 3, 0, 3, 0, 1, 0, 0, 3, 0, 1, 2, 0, 0, 0, ...</td>\n",
       "    </tr>\n",
       "    <tr>\n",
       "      <th>3962</th>\n",
       "      <td>después casi tres horas, con la pizza en estóm...</td>\n",
       "      <td>[después, casi, tres, horas, ,, con, la, pizza...</td>\n",
       "      <td>[O, O, O, O, O, O, O, B-CONCEPT, O, O, O, O, O...</td>\n",
       "      <td>[0, 0, 0, 0, 0, 0, 0, 3, 0, 0, 0, 0, 0, 0, 0, ...</td>\n",
       "    </tr>\n",
       "  </tbody>\n",
       "</table>\n",
       "<p>3963 rows × 4 columns</p>\n",
       "</div>"
      ],
      "text/plain": [
       "                                               document  \\\n",
       "0                            buena selección de ostras.   \n",
       "1     buen ambiente, trato excelente y jamón exquisito.   \n",
       "2     las pasta correcta pero es cara para las racio...   \n",
       "3     si he estado unas 50 veces, nunca, he salido m...   \n",
       "4                     un trato excelente y profesional.   \n",
       "...                                                 ...   \n",
       "3958  ya éramos clientes de más pi antes que se conv...   \n",
       "3959  veo por muchos de los comentarios que coincidi...   \n",
       "3960  vine al restaurante animado por las opiniones ...   \n",
       "3961  los desayunos y dulces son estupendos, el siti...   \n",
       "3962  después casi tres horas, con la pizza en estóm...   \n",
       "\n",
       "                                                 tokens  \\\n",
       "0                     [buena, selección, de, ostras, .]   \n",
       "1     [buen, ambiente, ,, trato, excelente, y, jamón...   \n",
       "2     [las, pasta, correcta, pero, es, cara, para, l...   \n",
       "3     [si, he, estado, unas, 50, veces, ,, nunca, ,,...   \n",
       "4             [un, trato, excelente, y, profesional, .]   \n",
       "...                                                 ...   \n",
       "3958  [ya, éramos, clientes, de, más, pi, antes, que...   \n",
       "3959  [veo, por, muchos, de, los, comentarios, que, ...   \n",
       "3960  [vine, al, restaurante, animado, por, las, opi...   \n",
       "3961  [los, desayunos, y, dulces, son, estupendos, ,...   \n",
       "3962  [después, casi, tres, horas, ,, con, la, pizza...   \n",
       "\n",
       "                                                 labels  \\\n",
       "0                              [B-MODIFIER, O, O, O, O]   \n",
       "1     [B-MODIFIER, B-CONCEPT, O, O, B-MODIFIER, O, B...   \n",
       "2     [O, B-CONCEPT, B-MODIFIER, O, O, B-MODIFIER, O...   \n",
       "3     [O, O, O, O, O, O, O, O, O, O, O, O, O, O, O, ...   \n",
       "4                  [O, O, B-MODIFIER, O, B-MODIFIER, O]   \n",
       "...                                                 ...   \n",
       "3958  [O, O, B-CONCEPT, O, O, O, O, O, O, O, O, O, O...   \n",
       "3959  [O, O, O, O, O, O, O, O, O, O, O, O, B-MODIFIE...   \n",
       "3960  [O, O, B-CONCEPT, B-MODIFIER, O, O, O, O, O, B...   \n",
       "3961  [O, B-CONCEPT, O, B-CONCEPT, O, B-MODIFIER, O,...   \n",
       "3962  [O, O, O, O, O, O, O, B-CONCEPT, O, O, O, O, O...   \n",
       "\n",
       "                                               ner_tags  \n",
       "0                                       [1, 0, 0, 0, 0]  \n",
       "1                           [1, 3, 0, 0, 1, 0, 3, 1, 0]  \n",
       "2                        [0, 3, 1, 0, 0, 1, 0, 0, 0, 0]  \n",
       "3     [0, 0, 0, 0, 0, 0, 0, 0, 0, 0, 0, 0, 0, 0, 0, ...  \n",
       "4                                    [0, 0, 1, 0, 1, 0]  \n",
       "...                                                 ...  \n",
       "3958  [0, 0, 3, 0, 0, 0, 0, 0, 0, 0, 0, 0, 0, 0, 0, ...  \n",
       "3959  [0, 0, 0, 0, 0, 0, 0, 0, 0, 0, 0, 0, 1, 0, 0, ...  \n",
       "3960  [0, 0, 3, 1, 0, 0, 0, 0, 0, 3, 0, 0, 0, 0, 0, ...  \n",
       "3961  [0, 3, 0, 3, 0, 1, 0, 0, 3, 0, 1, 2, 0, 0, 0, ...  \n",
       "3962  [0, 0, 0, 0, 0, 0, 0, 3, 0, 0, 0, 0, 0, 0, 0, ...  \n",
       "\n",
       "[3963 rows x 4 columns]"
      ]
     },
     "execution_count": 25,
     "metadata": {},
     "output_type": "execute_result"
    }
   ],
   "source": [
    "df_reviews"
   ]
  },
  {
   "cell_type": "code",
   "execution_count": 26,
   "metadata": {},
   "outputs": [],
   "source": [
    "from sklearn.utils import shuffle\n",
    "df_reviews = shuffle(df_reviews)"
   ]
  },
  {
   "cell_type": "code",
   "execution_count": 27,
   "metadata": {},
   "outputs": [],
   "source": [
    "df_train = df_reviews.head(2600)\n",
    "df_test  = df_reviews[2600:3200]\n",
    "df_val   = df_reviews[3200:]"
   ]
  },
  {
   "cell_type": "code",
   "execution_count": 28,
   "metadata": {},
   "outputs": [],
   "source": [
    "df_train.to_pickle(\"df_train.pkl\")\n",
    "df_test.to_pickle(\"df_test.pkl\")\n",
    "df_val.to_pickle(\"df_val.pkl\")"
   ]
  },
  {
   "cell_type": "code",
   "execution_count": 29,
   "metadata": {},
   "outputs": [
    {
     "data": {
      "text/html": [
       "<div>\n",
       "<style scoped>\n",
       "    .dataframe tbody tr th:only-of-type {\n",
       "        vertical-align: middle;\n",
       "    }\n",
       "\n",
       "    .dataframe tbody tr th {\n",
       "        vertical-align: top;\n",
       "    }\n",
       "\n",
       "    .dataframe thead th {\n",
       "        text-align: right;\n",
       "    }\n",
       "</style>\n",
       "<table border=\"1\" class=\"dataframe\">\n",
       "  <thead>\n",
       "    <tr style=\"text-align: right;\">\n",
       "      <th></th>\n",
       "      <th>document</th>\n",
       "      <th>tokens</th>\n",
       "      <th>labels</th>\n",
       "      <th>ner_tags</th>\n",
       "    </tr>\n",
       "  </thead>\n",
       "  <tbody>\n",
       "    <tr>\n",
       "      <th>2762</th>\n",
       "      <td>un conjunto de edificio, sala, atención, varie...</td>\n",
       "      <td>[un, conjunto, de, edificio, ,, sala, ,, atenc...</td>\n",
       "      <td>[O, O, O, B-CONCEPT, O, B-CONCEPT, O, O, O, O,...</td>\n",
       "      <td>[0, 0, 0, 3, 0, 3, 0, 0, 0, 0, 0, 0, 0, 0, 1, ...</td>\n",
       "    </tr>\n",
       "  </tbody>\n",
       "</table>\n",
       "</div>"
      ],
      "text/plain": [
       "                                               document  \\\n",
       "2762  un conjunto de edificio, sala, atención, varie...   \n",
       "\n",
       "                                                 tokens  \\\n",
       "2762  [un, conjunto, de, edificio, ,, sala, ,, atenc...   \n",
       "\n",
       "                                                 labels  \\\n",
       "2762  [O, O, O, B-CONCEPT, O, B-CONCEPT, O, O, O, O,...   \n",
       "\n",
       "                                               ner_tags  \n",
       "2762  [0, 0, 0, 3, 0, 3, 0, 0, 0, 0, 0, 0, 0, 0, 1, ...  "
      ]
     },
     "execution_count": 29,
     "metadata": {},
     "output_type": "execute_result"
    }
   ],
   "source": [
    "df_reviews[df_reviews.document.str.startswith(\"un conjunto\")]"
   ]
  },
  {
   "cell_type": "code",
   "execution_count": 30,
   "metadata": {},
   "outputs": [
    {
     "data": {
      "text/plain": [
       "{'document': 'un conjunto de edificio, sala, atención, variedad, calidad y precio muy recomendables.',\n",
       " 'entities': [{'text': 'edificio',\n",
       "   'type': 'concept',\n",
       "   'start': 15.0,\n",
       "   'end': 23.0},\n",
       "  {'text': 'sala', 'type': 'concept', 'start': 25.0, 'end': 29.0},\n",
       "  {'text': 'muy recomendables',\n",
       "   'type': 'modifier',\n",
       "   'start': 68.0,\n",
       "   'end': 85.0}],\n",
       " 'tokens': ['un',\n",
       "  'conjunto',\n",
       "  'de',\n",
       "  'edificio',\n",
       "  ',',\n",
       "  'sala',\n",
       "  ',',\n",
       "  'atención',\n",
       "  ',',\n",
       "  'variedad',\n",
       "  ',',\n",
       "  'calidad',\n",
       "  'y',\n",
       "  'precio',\n",
       "  'muy',\n",
       "  'recomendables',\n",
       "  '.'],\n",
       " 'ner_tags': ['O',\n",
       "  'O',\n",
       "  'O',\n",
       "  'B-CONCEPT',\n",
       "  'O',\n",
       "  'B-CONCEPT',\n",
       "  'O',\n",
       "  'O',\n",
       "  'O',\n",
       "  'O',\n",
       "  'O',\n",
       "  'O',\n",
       "  'O',\n",
       "  'O',\n",
       "  'B-MODIFIER',\n",
       "  'I-MODIFIER',\n",
       "  'O']}"
      ]
     },
     "execution_count": 30,
     "metadata": {},
     "output_type": "execute_result"
    }
   ],
   "source": [
    "reviews_json[2762]"
   ]
  },
  {
   "cell_type": "code",
   "execution_count": null,
   "metadata": {},
   "outputs": [],
   "source": []
  },
  {
   "cell_type": "code",
   "execution_count": null,
   "metadata": {},
   "outputs": [],
   "source": []
  }
 ],
 "metadata": {
  "interpreter": {
   "hash": "e11ffe9bd754d42c2fe650a6e02d2a256e04b0b447510aec6eb3ae5921c14a6d"
  },
  "kernelspec": {
   "display_name": "Python 3.7.11 ('relation_extraction')",
   "language": "python",
   "name": "python3"
  },
  "language_info": {
   "codemirror_mode": {
    "name": "ipython",
    "version": 3
   },
   "file_extension": ".py",
   "mimetype": "text/x-python",
   "name": "python",
   "nbconvert_exporter": "python",
   "pygments_lexer": "ipython3",
   "version": "3.7.9"
  },
  "orig_nbformat": 4
 },
 "nbformat": 4,
 "nbformat_minor": 2
}
